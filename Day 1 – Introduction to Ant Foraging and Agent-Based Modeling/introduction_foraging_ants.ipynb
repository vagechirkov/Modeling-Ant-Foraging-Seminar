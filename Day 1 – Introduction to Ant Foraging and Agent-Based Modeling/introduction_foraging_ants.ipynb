{
 "cells": [
  {
   "cell_type": "code",
   "execution_count": 1,
   "id": "c27c901e-4182-4408-a836-36a8d7843c36",
   "metadata": {},
   "outputs": [],
   "source": [
    "%load_ext autoreload\n",
    "%autoreload 2"
   ]
  },
  {
   "cell_type": "code",
   "execution_count": 2,
   "id": "initial_id",
   "metadata": {},
   "outputs": [],
   "source": [
    "import mesa\n",
    "import matplotlib.pylab as plt\n",
    "import numpy as np"
   ]
  },
  {
   "cell_type": "code",
   "execution_count": 3,
   "id": "d66a9642-17ba-436d-aa37-9f786e89d732",
   "metadata": {},
   "outputs": [],
   "source": [
    "from model import AntModel"
   ]
  },
  {
   "cell_type": "code",
   "execution_count": 14,
   "id": "de94ecd7-4ef6-4dde-863e-a7932f584ad0",
   "metadata": {},
   "outputs": [],
   "source": [
    "dim = 1000\n",
    "m1 = AntModel(width=dim, height=dim, N=1, g=0.7)"
   ]
  },
  {
   "cell_type": "code",
   "execution_count": 15,
   "id": "65785e08-6a40-46da-8245-a3ba6efc9f20",
   "metadata": {},
   "outputs": [],
   "source": [
    "n_steps = 100\n",
    "for i in range(n_steps):\n",
    "    m1.step()"
   ]
  },
  {
   "cell_type": "code",
   "execution_count": 16,
   "id": "34ec82c3-42e5-4486-9284-672c888bea8a",
   "metadata": {},
   "outputs": [],
   "source": [
    "results = m1.datacollector.get_agent_vars_dataframe()"
   ]
  },
  {
   "cell_type": "code",
   "execution_count": 17,
   "id": "4e14d132-bee9-4e1e-8418-685b1afd6c4d",
   "metadata": {},
   "outputs": [
    {
     "data": {
      "text/html": [
       "<div>\n",
       "<style scoped>\n",
       "    .dataframe tbody tr th:only-of-type {\n",
       "        vertical-align: middle;\n",
       "    }\n",
       "\n",
       "    .dataframe tbody tr th {\n",
       "        vertical-align: top;\n",
       "    }\n",
       "\n",
       "    .dataframe thead th {\n",
       "        text-align: right;\n",
       "    }\n",
       "</style>\n",
       "<table border=\"1\" class=\"dataframe\">\n",
       "  <thead>\n",
       "    <tr style=\"text-align: right;\">\n",
       "      <th></th>\n",
       "      <th></th>\n",
       "      <th>x</th>\n",
       "      <th>y</th>\n",
       "      <th>heading</th>\n",
       "    </tr>\n",
       "    <tr>\n",
       "      <th>Step</th>\n",
       "      <th>AgentID</th>\n",
       "      <th></th>\n",
       "      <th></th>\n",
       "      <th></th>\n",
       "    </tr>\n",
       "  </thead>\n",
       "  <tbody>\n",
       "    <tr>\n",
       "      <th>1</th>\n",
       "      <th>1</th>\n",
       "      <td>503.458143</td>\n",
       "      <td>500.245588</td>\n",
       "      <td>0.093816</td>\n",
       "    </tr>\n",
       "    <tr>\n",
       "      <th>2</th>\n",
       "      <th>1</th>\n",
       "      <td>503.680011</td>\n",
       "      <td>500.266464</td>\n",
       "      <td>0.006017</td>\n",
       "    </tr>\n",
       "    <tr>\n",
       "      <th>3</th>\n",
       "      <th>1</th>\n",
       "      <td>512.142525</td>\n",
       "      <td>500.317386</td>\n",
       "      <td>-0.253461</td>\n",
       "    </tr>\n",
       "    <tr>\n",
       "      <th>4</th>\n",
       "      <th>1</th>\n",
       "      <td>526.421070</td>\n",
       "      <td>496.618788</td>\n",
       "      <td>-0.314589</td>\n",
       "    </tr>\n",
       "    <tr>\n",
       "      <th>5</th>\n",
       "      <th>1</th>\n",
       "      <td>534.351998</td>\n",
       "      <td>494.038102</td>\n",
       "      <td>-0.530500</td>\n",
       "    </tr>\n",
       "    <tr>\n",
       "      <th>...</th>\n",
       "      <th>...</th>\n",
       "      <td>...</td>\n",
       "      <td>...</td>\n",
       "      <td>...</td>\n",
       "    </tr>\n",
       "    <tr>\n",
       "      <th>96</th>\n",
       "      <th>1</th>\n",
       "      <td>612.037976</td>\n",
       "      <td>399.979003</td>\n",
       "      <td>7.232006</td>\n",
       "    </tr>\n",
       "    <tr>\n",
       "      <th>97</th>\n",
       "      <th>1</th>\n",
       "      <td>613.809853</td>\n",
       "      <td>402.450600</td>\n",
       "      <td>7.627143</td>\n",
       "    </tr>\n",
       "    <tr>\n",
       "      <th>98</th>\n",
       "      <th>1</th>\n",
       "      <td>615.670737</td>\n",
       "      <td>410.512976</td>\n",
       "      <td>6.663659</td>\n",
       "    </tr>\n",
       "    <tr>\n",
       "      <th>99</th>\n",
       "      <th>1</th>\n",
       "      <td>616.039195</td>\n",
       "      <td>410.660345</td>\n",
       "      <td>6.910627</td>\n",
       "    </tr>\n",
       "    <tr>\n",
       "      <th>100</th>\n",
       "      <th>1</th>\n",
       "      <td>623.547943</td>\n",
       "      <td>416.105715</td>\n",
       "      <td>6.592071</td>\n",
       "    </tr>\n",
       "  </tbody>\n",
       "</table>\n",
       "<p>100 rows × 3 columns</p>\n",
       "</div>"
      ],
      "text/plain": [
       "                       x           y   heading\n",
       "Step AgentID                                  \n",
       "1    1        503.458143  500.245588  0.093816\n",
       "2    1        503.680011  500.266464  0.006017\n",
       "3    1        512.142525  500.317386 -0.253461\n",
       "4    1        526.421070  496.618788 -0.314589\n",
       "5    1        534.351998  494.038102 -0.530500\n",
       "...                  ...         ...       ...\n",
       "96   1        612.037976  399.979003  7.232006\n",
       "97   1        613.809853  402.450600  7.627143\n",
       "98   1        615.670737  410.512976  6.663659\n",
       "99   1        616.039195  410.660345  6.910627\n",
       "100  1        623.547943  416.105715  6.592071\n",
       "\n",
       "[100 rows x 3 columns]"
      ]
     },
     "execution_count": 17,
     "metadata": {},
     "output_type": "execute_result"
    }
   ],
   "source": [
    "results"
   ]
  },
  {
   "cell_type": "code",
   "execution_count": 18,
   "id": "15941fea-effa-469c-b3a4-653f6d363688",
   "metadata": {},
   "outputs": [
    {
     "data": {
      "image/png": "[encoded data removed]",
      "text/plain": [
       "<Figure size 600x600 with 2 Axes>"
      ]
     },
     "metadata": {},
     "output_type": "display_data"
    }
   ],
   "source": [
    "fig, ax = plt.subplots(figsize=(6, 6)) \n",
    "\n",
    "ax.plot(results.x, results.y, lw=1, color='0.7')\n",
    "sc = ax.scatter(results.x, results.y, c=results.index.get_level_values('Step'), cmap='viridis', s=20)\n",
    "ax.set_xlim(dim / 2 - 200, dim / 2 + 200)\n",
    "ax.set_ylim(dim / 2 - 200, dim / 2 + 200)\n",
    "ax.set_aspect('equal', adjustable='box')\n",
    "cbar = fig.colorbar(sc, ax=ax, label='Step', shrink=0.8, fraction=0.045)\n",
    "plt.show()"
   ]
  },
  {
   "cell_type": "code",
   "execution_count": null,
   "id": "689f60fa-a734-4e50-981e-3958e5f94ebd",
   "metadata": {},
   "outputs": [],
   "source": []
  },
  {
   "cell_type": "code",
   "execution_count": null,
   "id": "d11030e6-e8f6-4809-bb9b-c7d15a8f20a0",
   "metadata": {},
   "outputs": [],
   "source": []
  }
 ],
 "metadata": {
  "kernelspec": {
   "display_name": "Modeling Ant Foraging Seminar",
   "language": "python",
   "name": "foraging_ants_seminar"
  },
  "language_info": {
   "codemirror_mode": {
    "name": "ipython",
    "version": 3
   },
   "file_extension": ".py",
   "mimetype": "text/x-python",
   "name": "python",
   "nbconvert_exporter": "python",
   "pygments_lexer": "ipython3",
   "version": "3.12.3"
  }
 },
 "nbformat": 4,
 "nbformat_minor": 5
}
