{
 "cells": [
  {
   "cell_type": "markdown",
   "id": "6f9551c2-78f0-4256-9b2f-8a6c3e8bf63c",
   "metadata": {
    "collapsed": true,
    "jupyter": {
     "outputs_hidden": true
    }
   },
   "source": [
    "See more information [here](https://mesa.readthedocs.io/latest/getting_started.html)."
   ]
  },
  {
   "cell_type": "markdown",
   "id": "0f178847-1a96-4150-a85b-2260c678d80a",
   "metadata": {},
   "source": [
    "## First model"
   ]
  },
  {
   "cell_type": "code",
   "execution_count": 189,
   "id": "6240cbcf-76bc-4d9a-bab0-af872147f753",
   "metadata": {},
   "outputs": [],
   "source": [
    "import mesa\n",
    "import numpy as np\n",
    "import pandas as pd\n",
    "from mesa.discrete_space import CellAgent, OrthogonalMooreGrid"
   ]
  },
  {
   "cell_type": "code",
   "execution_count": 62,
   "id": "d1b94e27-f142-4875-b640-077fc90705da",
   "metadata": {},
   "outputs": [],
   "source": [
    "class MyAgent(CellAgent):\n",
    "    def __init__(self, model, age, cell=None):\n",
    "        super().__init__(model)\n",
    "        self.age = age\n",
    "        self.cell = cell\n",
    "\n",
    "    def step(self):\n",
    "        self.age += 1\n",
    "        print(f\"Agent {self.unique_id} at {self.cell.coordinate} now is {self.age} years old\")\n",
    "        # Whatever else the agent does when activated"
   ]
  },
  {
   "cell_type": "code",
   "execution_count": 91,
   "id": "b85a5699-40e3-4b5b-853d-53981d433c47",
   "metadata": {},
   "outputs": [],
   "source": [
    "class MyModel(mesa.Model):\n",
    "    def __init__(self, n_agents, seed=None):\n",
    "        super().__init__(seed=seed)\n",
    "        self.grid = OrthogonalMooreGrid((10, 10), torus=True, random=self.random)\n",
    "\n",
    "        agents = MyAgent.create_agents(\n",
    "            self,\n",
    "            n_agents,\n",
    "            cell=self.random.choices(self.grid.all_cells.cells, k=n_agents),\n",
    "            age=self.rng.integers(0, 80, (n_agents,), endpoint=True),\n",
    "        )\n",
    "\n",
    "    def step(self):\n",
    "        self.agents.do(\"step\")"
   ]
  },
  {
   "cell_type": "code",
   "execution_count": 92,
   "id": "3d3867f6-d3f5-4e56-a581-914f025dd261",
   "metadata": {},
   "outputs": [],
   "source": [
    "m1 = MyModel(n_agents=4, seed=15)"
   ]
  },
  {
   "cell_type": "code",
   "execution_count": 93,
   "id": "1e6e0ece-6399-40f4-84ce-177218cac764",
   "metadata": {},
   "outputs": [
    {
     "name": "stdout",
     "output_type": "stream",
     "text": [
      "Agent 1 at (9, 6) now is 76 years old\n",
      "Agent 2 at (0, 1) now is 57 years old\n",
      "Agent 3 at (7, 3) now is 58 years old\n",
      "Agent 4 at (1, 5) now is 67 years old\n"
     ]
    }
   ],
   "source": [
    "m1.step()"
   ]
  },
  {
   "cell_type": "code",
   "execution_count": 94,
   "id": "237e28fe-e1f1-457c-952a-a097be8ec299",
   "metadata": {},
   "outputs": [
    {
     "name": "stdout",
     "output_type": "stream",
     "text": [
      "Agent 1 at (9, 6) now is 77 years old\n",
      "Agent 2 at (0, 1) now is 58 years old\n",
      "Agent 3 at (7, 3) now is 59 years old\n",
      "Agent 4 at (1, 5) now is 68 years old\n"
     ]
    }
   ],
   "source": [
    "m1.step()"
   ]
  },
  {
   "cell_type": "code",
   "execution_count": 103,
   "id": "7abe9b87-10d6-40a2-94d6-7c82373a9509",
   "metadata": {},
   "outputs": [
    {
     "name": "stdout",
     "output_type": "stream",
     "text": [
      "[1, 2, 3, 4]\n"
     ]
    }
   ],
   "source": [
    "# Get total number of agents\n",
    "num_agents = len(m1.agents)\n",
    "\n",
    "# Iterate over all agents\n",
    "print([agent.unique_id for agent in m1.agents])"
   ]
  },
  {
   "cell_type": "code",
   "execution_count": null,
   "id": "fe198393-344d-49c7-8fef-b7b321011da6",
   "metadata": {},
   "outputs": [],
   "source": []
  },
  {
   "cell_type": "markdown",
   "id": "988b9418-6caa-41ee-8a48-ba6c77a74a7a",
   "metadata": {},
   "source": [
    "## Data collection"
   ]
  },
  {
   "cell_type": "code",
   "execution_count": 96,
   "id": "172b3ba6-c71a-43b8-89a6-c0888c74a12f",
   "metadata": {},
   "outputs": [],
   "source": [
    "class MyModel(mesa.Model):\n",
    "    def __init__(self, n_agents, seed=None):\n",
    "        super().__init__(seed=seed)\n",
    "        self.grid = OrthogonalMooreGrid((10, 10), torus=True, random=self.random)\n",
    "\n",
    "        agents = MyAgent.create_agents(\n",
    "            self,\n",
    "            n_agents,\n",
    "            cell=self.random.choices(self.grid.all_cells.cells, k=n_agents),\n",
    "            age=self.rng.integers(0, 80, (n_agents,), endpoint=True),\n",
    "        )\n",
    "        \n",
    "        self.datacollector = mesa.DataCollector(\n",
    "            model_reporters={\"mean_age\": lambda m: m.agents.agg(\"age\", np.mean)},\n",
    "            agent_reporters={\"age\": \"age\"}\n",
    "        )\n",
    "\n",
    "    def step(self):\n",
    "        self.agents.do(\"step\")\n",
    "        self.datacollector.collect(self)"
   ]
  },
  {
   "cell_type": "code",
   "execution_count": 97,
   "id": "89db6564-d0c0-4d13-896e-d74cdb7f3e7b",
   "metadata": {},
   "outputs": [
    {
     "name": "stdout",
     "output_type": "stream",
     "text": [
      "Agent 1 at (9, 6) now is 76 years old\n",
      "Agent 2 at (0, 1) now is 57 years old\n",
      "Agent 3 at (7, 3) now is 58 years old\n",
      "Agent 4 at (1, 5) now is 67 years old\n",
      "Agent 1 at (9, 6) now is 77 years old\n",
      "Agent 2 at (0, 1) now is 58 years old\n",
      "Agent 3 at (7, 3) now is 59 years old\n",
      "Agent 4 at (1, 5) now is 68 years old\n",
      "Agent 1 at (9, 6) now is 78 years old\n",
      "Agent 2 at (0, 1) now is 59 years old\n",
      "Agent 3 at (7, 3) now is 60 years old\n",
      "Agent 4 at (1, 5) now is 69 years old\n"
     ]
    }
   ],
   "source": [
    "m1 = MyModel(n_agents=4, seed=15)\n",
    "for _ in range(3):\n",
    "    m1.step()"
   ]
  },
  {
   "cell_type": "code",
   "execution_count": 98,
   "id": "0368f438-2709-491a-9855-9f3e9bb0eb59",
   "metadata": {},
   "outputs": [
    {
     "data": {
      "text/html": [
       "<div>\n",
       "<style scoped>\n",
       "    .dataframe tbody tr th:only-of-type {\n",
       "        vertical-align: middle;\n",
       "    }\n",
       "\n",
       "    .dataframe tbody tr th {\n",
       "        vertical-align: top;\n",
       "    }\n",
       "\n",
       "    .dataframe thead th {\n",
       "        text-align: right;\n",
       "    }\n",
       "</style>\n",
       "<table border=\"1\" class=\"dataframe\">\n",
       "  <thead>\n",
       "    <tr style=\"text-align: right;\">\n",
       "      <th></th>\n",
       "      <th>mean_age</th>\n",
       "    </tr>\n",
       "  </thead>\n",
       "  <tbody>\n",
       "    <tr>\n",
       "      <th>0</th>\n",
       "      <td>64.5</td>\n",
       "    </tr>\n",
       "    <tr>\n",
       "      <th>1</th>\n",
       "      <td>65.5</td>\n",
       "    </tr>\n",
       "    <tr>\n",
       "      <th>2</th>\n",
       "      <td>66.5</td>\n",
       "    </tr>\n",
       "  </tbody>\n",
       "</table>\n",
       "</div>"
      ],
      "text/plain": [
       "   mean_age\n",
       "0      64.5\n",
       "1      65.5\n",
       "2      66.5"
      ]
     },
     "execution_count": 98,
     "metadata": {},
     "output_type": "execute_result"
    }
   ],
   "source": [
    "m1.datacollector.get_model_vars_dataframe()"
   ]
  },
  {
   "cell_type": "code",
   "execution_count": 99,
   "id": "97983f92-f368-4498-baf1-f9fe669e2205",
   "metadata": {},
   "outputs": [
    {
     "data": {
      "text/html": [
       "<div>\n",
       "<style scoped>\n",
       "    .dataframe tbody tr th:only-of-type {\n",
       "        vertical-align: middle;\n",
       "    }\n",
       "\n",
       "    .dataframe tbody tr th {\n",
       "        vertical-align: top;\n",
       "    }\n",
       "\n",
       "    .dataframe thead th {\n",
       "        text-align: right;\n",
       "    }\n",
       "</style>\n",
       "<table border=\"1\" class=\"dataframe\">\n",
       "  <thead>\n",
       "    <tr style=\"text-align: right;\">\n",
       "      <th></th>\n",
       "      <th></th>\n",
       "      <th>age</th>\n",
       "    </tr>\n",
       "    <tr>\n",
       "      <th>Step</th>\n",
       "      <th>AgentID</th>\n",
       "      <th></th>\n",
       "    </tr>\n",
       "  </thead>\n",
       "  <tbody>\n",
       "    <tr>\n",
       "      <th rowspan=\"4\" valign=\"top\">1</th>\n",
       "      <th>1</th>\n",
       "      <td>76</td>\n",
       "    </tr>\n",
       "    <tr>\n",
       "      <th>2</th>\n",
       "      <td>57</td>\n",
       "    </tr>\n",
       "    <tr>\n",
       "      <th>3</th>\n",
       "      <td>58</td>\n",
       "    </tr>\n",
       "    <tr>\n",
       "      <th>4</th>\n",
       "      <td>67</td>\n",
       "    </tr>\n",
       "    <tr>\n",
       "      <th rowspan=\"4\" valign=\"top\">2</th>\n",
       "      <th>1</th>\n",
       "      <td>77</td>\n",
       "    </tr>\n",
       "    <tr>\n",
       "      <th>2</th>\n",
       "      <td>58</td>\n",
       "    </tr>\n",
       "    <tr>\n",
       "      <th>3</th>\n",
       "      <td>59</td>\n",
       "    </tr>\n",
       "    <tr>\n",
       "      <th>4</th>\n",
       "      <td>68</td>\n",
       "    </tr>\n",
       "    <tr>\n",
       "      <th rowspan=\"4\" valign=\"top\">3</th>\n",
       "      <th>1</th>\n",
       "      <td>78</td>\n",
       "    </tr>\n",
       "    <tr>\n",
       "      <th>2</th>\n",
       "      <td>59</td>\n",
       "    </tr>\n",
       "    <tr>\n",
       "      <th>3</th>\n",
       "      <td>60</td>\n",
       "    </tr>\n",
       "    <tr>\n",
       "      <th>4</th>\n",
       "      <td>69</td>\n",
       "    </tr>\n",
       "  </tbody>\n",
       "</table>\n",
       "</div>"
      ],
      "text/plain": [
       "              age\n",
       "Step AgentID     \n",
       "1    1         76\n",
       "     2         57\n",
       "     3         58\n",
       "     4         67\n",
       "2    1         77\n",
       "     2         58\n",
       "     3         59\n",
       "     4         68\n",
       "3    1         78\n",
       "     2         59\n",
       "     3         60\n",
       "     4         69"
      ]
     },
     "execution_count": 99,
     "metadata": {},
     "output_type": "execute_result"
    }
   ],
   "source": [
    "m1.datacollector.get_agent_vars_dataframe()"
   ]
  },
  {
   "cell_type": "code",
   "execution_count": null,
   "id": "95eb0f53-6de5-4063-bbf4-d4f2e01ea608",
   "metadata": {},
   "outputs": [],
   "source": []
  },
  {
   "cell_type": "markdown",
   "id": "ccf1cf42-775b-4239-95d0-b63b375e5418",
   "metadata": {},
   "source": [
    "## Add interaction between agents"
   ]
  },
  {
   "cell_type": "code",
   "execution_count": 176,
   "id": "37c87b3d-3944-42a4-b4a7-4c52fb86161e",
   "metadata": {},
   "outputs": [],
   "source": [
    "class MyAgent(CellAgent):\n",
    "    def __init__(self, model, age, cell=None):\n",
    "        super().__init__(model)\n",
    "        self.age = age\n",
    "        self.cell = cell\n",
    "        self.happiness = 0\n",
    "\n",
    "    def _move(self):\n",
    "        self.cell = self.cell.neighborhood.select_random_cell()\n",
    "\n",
    "    def _count_neighbors(self):\n",
    "        return sum([len(c.agents) for c in self.cell.get_neighborhood(radius=2, include_center=False).cells])\n",
    "\n",
    "    def step(self):\n",
    "        self.age += 1\n",
    "\n",
    "        n_neighbors = self._count_neighbors()\n",
    "        if n_neighbors > 0:\n",
    "            self.happiness += 1\n",
    "        else:\n",
    "            self.happiness -= 1\n",
    "            self._move()\n",
    "\n",
    "        print(f\"Agent {self.unique_id} at {self.cell.coordinate} now is {self.age} years old with happiness score {self.happiness}\")\n"
   ]
  },
  {
   "cell_type": "code",
   "execution_count": 177,
   "id": "f56d92c4-836f-4f4c-8fd5-55a89258a55a",
   "metadata": {},
   "outputs": [],
   "source": [
    "class MyModel(mesa.Model):\n",
    "    def __init__(self, n_agents=4, seed=None):\n",
    "        super().__init__(seed=seed)\n",
    "        self.grid = OrthogonalMooreGrid((10, 10), torus=True, random=self.random)\n",
    "\n",
    "        agents = MyAgent.create_agents(\n",
    "            self,\n",
    "            n_agents,\n",
    "            cell=self.random.choices(self.grid.all_cells.cells, k=n_agents),\n",
    "            age=self.rng.integers(0, 80, (n_agents,), endpoint=True),\n",
    "        )\n",
    "        \n",
    "        self.datacollector = mesa.DataCollector(\n",
    "            model_reporters={\"mean_age\": lambda m: m.agents.agg(\"age\", np.mean),\n",
    "                             \"mean_happiness\": lambda m: m.agents.agg(\"happiness\", np.mean)},\n",
    "            agent_reporters={\"age\": \"age\", \"happiness\": \"happiness\"}\n",
    "        )\n",
    "\n",
    "    def step(self):\n",
    "        self.agents.shuffle_do(\"step\") # <---- randomize the order of the agent's actions ⚠️\n",
    "        self.datacollector.collect(self)"
   ]
  },
  {
   "cell_type": "code",
   "execution_count": 178,
   "id": "ff732ba4-b605-4628-bf3f-07582d2be107",
   "metadata": {},
   "outputs": [
    {
     "name": "stdout",
     "output_type": "stream",
     "text": [
      "Agent 2 at (9, 2) now is 57 years old with happiness score -1\n",
      "Agent 1 at (9, 5) now is 76 years old with happiness score -1\n",
      "Agent 2 at (8, 1) now is 58 years old with happiness score -2\n",
      "Agent 1 at (8, 6) now is 77 years old with happiness score -2\n",
      "Agent 1 at (8, 5) now is 78 years old with happiness score -3\n",
      "Agent 2 at (7, 1) now is 59 years old with happiness score -3\n",
      "Agent 1 at (9, 6) now is 79 years old with happiness score -4\n",
      "Agent 2 at (8, 0) now is 60 years old with happiness score -4\n",
      "Agent 1 at (0, 6) now is 80 years old with happiness score -5\n",
      "Agent 2 at (8, 1) now is 61 years old with happiness score -5\n"
     ]
    }
   ],
   "source": [
    "m1 = MyModel(n_agents=2, seed=15)\n",
    "for _ in range(5):\n",
    "    m1.step()"
   ]
  },
  {
   "cell_type": "code",
   "execution_count": null,
   "id": "ed2cd7c7-5276-4319-8bab-81eecd6934de",
   "metadata": {},
   "outputs": [],
   "source": []
  },
  {
   "cell_type": "markdown",
   "id": "ab5ac8a3-c6c4-4d54-80d7-fbd0e9c2ab0b",
   "metadata": {},
   "source": [
    "## Visualize model"
   ]
  },
  {
   "cell_type": "code",
   "execution_count": 179,
   "id": "50d1dc66-3a4c-4273-b4ae-ffee0f8c5ce2",
   "metadata": {},
   "outputs": [
    {
     "data": {
      "image/png": "[encoded data removed]",
      "text/plain": [
       "<Figure size 500x500 with 1 Axes>"
      ]
     },
     "metadata": {},
     "output_type": "display_data"
    }
   ],
   "source": [
    "import seaborn as sns\n",
    "m1 = MyModel(n_agents=5, seed=15)\n",
    "agent_counts = np.zeros((m1.grid.width, m1.grid.height))\n",
    "\n",
    "for cell in m1.grid.all_cells:\n",
    "    agent_counts[cell.coordinate] = len(cell.agents)\n",
    "# Plot using seaborn, with a visual size of 5x5\n",
    "g = sns.heatmap(agent_counts, cmap=\"viridis\", annot=True, cbar=False, square=True)\n",
    "g.figure.set_size_inches(5, 5)\n",
    "g.set(title=\"Number of agents on each cell of the grid\");"
   ]
  },
  {
   "cell_type": "code",
   "execution_count": null,
   "id": "ec616d7a-6a5e-4c4d-9f8e-4f0a01a8b33f",
   "metadata": {},
   "outputs": [],
   "source": []
  },
  {
   "cell_type": "markdown",
   "id": "1549794f-f494-43c7-836e-321692d2830d",
   "metadata": {},
   "source": [
    "### Dynamic visualization"
   ]
  },
  {
   "cell_type": "code",
   "execution_count": 227,
   "id": "b09e3dd7-0a0f-4a82-93ad-de9c0cf4b864",
   "metadata": {},
   "outputs": [],
   "source": [
    "class MyAgent(CellAgent):\n",
    "    def __init__(self, model, age, cell=None):\n",
    "        super().__init__(model)\n",
    "        self.age = age\n",
    "        self.cell = cell\n",
    "        self.happiness = 0\n",
    "\n",
    "    def _move(self):\n",
    "        self.cell = self.cell.neighborhood.select_random_cell()\n",
    "\n",
    "    def _count_neighbors(self):\n",
    "        return sum([len(c.agents) for c in self.cell.get_neighborhood(radius=2, include_center=False).cells])\n",
    "\n",
    "    def step(self):\n",
    "        self.age += 1\n",
    "\n",
    "        n_neighbors = self._count_neighbors()\n",
    "        random_number = self.random.random()\n",
    "        if n_neighbors > 0:\n",
    "            self.happiness += 1\n",
    "            if random_number > 0.8:\n",
    "                self._move()\n",
    "        else:\n",
    "            self.happiness -= 1\n",
    "            if random_number > 0.2:\n",
    "                self._move()\n"
   ]
  },
  {
   "cell_type": "code",
   "execution_count": 228,
   "id": "4d75a9ce-6861-4fb6-9ad1-0ce6ae26b65a",
   "metadata": {},
   "outputs": [
    {
     "data": {
      "application/vnd.jupyter.widget-view+json": {
       "model_id": "21298238cf694e4cac78bc61c92fbe57",
       "version_major": 2,
       "version_minor": 0
      },
      "text/html": [
       "Cannot show widget. You probably want to rerun the code cell above (<i>Click in the code cell, and press Shift+Enter <kbd>⇧</kbd>+<kbd>↩</kbd></i>)."
      ],
      "text/plain": [
       "Cannot show ipywidgets in text"
      ]
     },
     "metadata": {},
     "output_type": "display_data"
    }
   ],
   "source": [
    "from mesa.visualization import SolaraViz, make_plot_component, make_space_component\n",
    "def agent_portrayal(agent):\n",
    "    return {\n",
    "        \"color\": \"tab:blue\",\n",
    "        \"size\": 50,\n",
    "    }\n",
    "\n",
    "model_params = {\n",
    "    \"n_agents\": {\n",
    "        \"type\": \"SliderInt\",\n",
    "        \"value\": 4,\n",
    "        \"label\": \"Number of agents:\",\n",
    "        \"min\": 1,\n",
    "        \"max\": 20,\n",
    "        \"step\": 1,\n",
    "    },\n",
    "}\n",
    "\n",
    "SpaceGraph = make_space_component(agent_portrayal)\n",
    "HappinessPlot = make_plot_component(\"mean_happiness\")\n",
    "\n",
    "m2 = MyModel(n_agents=4, seed=15)\n",
    "\n",
    "page = SolaraViz(\n",
    "    m2,\n",
    "    components=[SpaceGraph, HappinessPlot],\n",
    "    model_params=model_params,\n",
    "    name=\"My Model\",\n",
    ")\n",
    "# This is required to render the visualization in the Jupyter notebook\n",
    "page"
   ]
  },
  {
   "cell_type": "code",
   "execution_count": null,
   "id": "30e8e5b3-2684-4396-be3a-f9f90172ff26",
   "metadata": {},
   "outputs": [],
   "source": []
  },
  {
   "cell_type": "markdown",
   "id": "d11f4bef-1537-4552-89e3-3bdfc9c9f85d",
   "metadata": {},
   "source": [
    "## Model analysis"
   ]
  },
  {
   "cell_type": "markdown",
   "id": "0899f4fc-5813-46ce-946a-4594e1bf96af",
   "metadata": {},
   "source": [
    "### Parameter sweep"
   ]
  },
  {
   "cell_type": "code",
   "execution_count": 229,
   "id": "07902468-d586-4bf1-bb02-3b4a4b599b91",
   "metadata": {},
   "outputs": [
    {
     "data": {
      "application/vnd.jupyter.widget-view+json": {
       "model_id": "be0af3667bee4fbe85222daa0119b69b",
       "version_major": 2,
       "version_minor": 0
      },
      "text/plain": [
       "  0%|          | 0/180 [00:00<?, ?it/s]"
      ]
     },
     "metadata": {},
     "output_type": "display_data"
    }
   ],
   "source": [
    "results = mesa.batch_run(\n",
    "    MyModel,\n",
    "    parameters={\"n_agents\": list(range(2, 20))},\n",
    "    iterations=10,\n",
    "    max_steps=25,\n",
    "    number_processes=1,\n",
    "    data_collection_period=-1,  # Need to collect only at the last step\n",
    "    display_progress=True,\n",
    ")\n",
    "\n",
    "results = pd.DataFrame(results)"
   ]
  },
  {
   "cell_type": "code",
   "execution_count": 230,
   "id": "04097b23-83d5-44d3-9e35-763ec1e16deb",
   "metadata": {},
   "outputs": [
    {
     "data": {
      "text/plain": [
       "(1890, 9)"
      ]
     },
     "execution_count": 230,
     "metadata": {},
     "output_type": "execute_result"
    }
   ],
   "source": [
    "results.shape"
   ]
  },
  {
   "cell_type": "code",
   "execution_count": 231,
   "id": "f159fa54-333d-4730-9ff2-920761b0b5f2",
   "metadata": {},
   "outputs": [
    {
     "data": {
      "text/html": [
       "<div>\n",
       "<style scoped>\n",
       "    .dataframe tbody tr th:only-of-type {\n",
       "        vertical-align: middle;\n",
       "    }\n",
       "\n",
       "    .dataframe tbody tr th {\n",
       "        vertical-align: top;\n",
       "    }\n",
       "\n",
       "    .dataframe thead th {\n",
       "        text-align: right;\n",
       "    }\n",
       "</style>\n",
       "<table border=\"1\" class=\"dataframe\">\n",
       "  <thead>\n",
       "    <tr style=\"text-align: right;\">\n",
       "      <th></th>\n",
       "      <th>RunId</th>\n",
       "      <th>iteration</th>\n",
       "      <th>Step</th>\n",
       "      <th>n_agents</th>\n",
       "      <th>mean_age</th>\n",
       "      <th>mean_happiness</th>\n",
       "      <th>AgentID</th>\n",
       "      <th>age</th>\n",
       "      <th>happiness</th>\n",
       "    </tr>\n",
       "  </thead>\n",
       "  <tbody>\n",
       "    <tr>\n",
       "      <th>0</th>\n",
       "      <td>0</td>\n",
       "      <td>0</td>\n",
       "      <td>25</td>\n",
       "      <td>2</td>\n",
       "      <td>96.000000</td>\n",
       "      <td>-19.0</td>\n",
       "      <td>1</td>\n",
       "      <td>91</td>\n",
       "      <td>-17</td>\n",
       "    </tr>\n",
       "    <tr>\n",
       "      <th>1</th>\n",
       "      <td>0</td>\n",
       "      <td>0</td>\n",
       "      <td>25</td>\n",
       "      <td>2</td>\n",
       "      <td>96.000000</td>\n",
       "      <td>-19.0</td>\n",
       "      <td>2</td>\n",
       "      <td>99</td>\n",
       "      <td>-19</td>\n",
       "    </tr>\n",
       "    <tr>\n",
       "      <th>2</th>\n",
       "      <td>1</td>\n",
       "      <td>0</td>\n",
       "      <td>25</td>\n",
       "      <td>3</td>\n",
       "      <td>61.666667</td>\n",
       "      <td>-8.0</td>\n",
       "      <td>1</td>\n",
       "      <td>39</td>\n",
       "      <td>-19</td>\n",
       "    </tr>\n",
       "    <tr>\n",
       "      <th>3</th>\n",
       "      <td>1</td>\n",
       "      <td>0</td>\n",
       "      <td>25</td>\n",
       "      <td>3</td>\n",
       "      <td>61.666667</td>\n",
       "      <td>-8.0</td>\n",
       "      <td>2</td>\n",
       "      <td>72</td>\n",
       "      <td>-1</td>\n",
       "    </tr>\n",
       "    <tr>\n",
       "      <th>4</th>\n",
       "      <td>1</td>\n",
       "      <td>0</td>\n",
       "      <td>25</td>\n",
       "      <td>3</td>\n",
       "      <td>61.666667</td>\n",
       "      <td>-8.0</td>\n",
       "      <td>3</td>\n",
       "      <td>71</td>\n",
       "      <td>-1</td>\n",
       "    </tr>\n",
       "  </tbody>\n",
       "</table>\n",
       "</div>"
      ],
      "text/plain": [
       "   RunId  iteration  Step  n_agents   mean_age  mean_happiness  AgentID  age  \\\n",
       "0      0          0    25         2  96.000000           -19.0        1   91   \n",
       "1      0          0    25         2  96.000000           -19.0        2   99   \n",
       "2      1          0    25         3  61.666667            -8.0        1   39   \n",
       "3      1          0    25         3  61.666667            -8.0        2   72   \n",
       "4      1          0    25         3  61.666667            -8.0        3   71   \n",
       "\n",
       "   happiness  \n",
       "0        -17  \n",
       "1        -19  \n",
       "2        -19  \n",
       "3         -1  \n",
       "4         -1  "
      ]
     },
     "execution_count": 231,
     "metadata": {},
     "output_type": "execute_result"
    }
   ],
   "source": [
    "results.head()"
   ]
  },
  {
   "cell_type": "code",
   "execution_count": 232,
   "id": "f2fcc474-76ee-4cb9-bcb0-15218aebf1a5",
   "metadata": {},
   "outputs": [
    {
     "data": {
      "text/plain": [
       "<seaborn.axisgrid.FacetGrid at 0x32c845c40>"
      ]
     },
     "execution_count": 232,
     "metadata": {},
     "output_type": "execute_result"
    },
    {
     "data": {
      "image/png": "[encoded data removed]",
      "text/plain": [
       "<Figure size 511.111x500 with 1 Axes>"
      ]
     },
     "metadata": {},
     "output_type": "display_data"
    }
   ],
   "source": [
    "sns.catplot(\n",
    "    results,\n",
    "    x=\"n_agents\",\n",
    "    y=\"mean_happiness\",\n",
    "    kind=\"point\"\n",
    ")"
   ]
  },
  {
   "cell_type": "code",
   "execution_count": 233,
   "id": "1a32a9d8-ad46-44f4-84b4-8009ab3b3215",
   "metadata": {},
   "outputs": [
    {
     "data": {
      "application/vnd.jupyter.widget-view+json": {
       "model_id": "fd28b4f90eff4ead9ea94395d7d85713",
       "version_major": 2,
       "version_minor": 0
      },
      "text/plain": [
       "  0%|          | 0/1800 [00:00<?, ?it/s]"
      ]
     },
     "metadata": {},
     "output_type": "display_data"
    }
   ],
   "source": [
    "results_100 = mesa.batch_run(\n",
    "    MyModel,\n",
    "    parameters={\"n_agents\": list(range(2, 20))},\n",
    "    iterations=100,\n",
    "    max_steps=25,\n",
    "    number_processes=1,\n",
    "    data_collection_period=-1,  # Need to collect only at the last step\n",
    "    display_progress=True,\n",
    ")\n",
    "\n",
    "results_100 = pd.DataFrame(results_100)"
   ]
  },
  {
   "cell_type": "code",
   "execution_count": 234,
   "id": "edf5dfad-93d6-4baa-8fd8-03dccd31ec56",
   "metadata": {},
   "outputs": [
    {
     "data": {
      "image/png": "[encoded data removed]",
      "text/plain": [
       "<Figure size 511.111x500 with 1 Axes>"
      ]
     },
     "metadata": {},
     "output_type": "display_data"
    }
   ],
   "source": [
    "sns.catplot(\n",
    "    results_100,\n",
    "    x=\"n_agents\",\n",
    "    y=\"mean_happiness\",\n",
    "    kind=\"point\"\n",
    ");"
   ]
  },
  {
   "cell_type": "markdown",
   "id": "69655581-2fb4-44cd-af7f-e430fe609758",
   "metadata": {},
   "source": [
    "### Timeseries visualization"
   ]
  },
  {
   "cell_type": "code",
   "execution_count": 235,
   "id": "1816e734-5d25-4941-8a7f-7ee28cf27f06",
   "metadata": {},
   "outputs": [
    {
     "data": {
      "application/vnd.jupyter.widget-view+json": {
       "model_id": "6d9ed7d8bb1747048e935f2dff4a942b",
       "version_major": 2,
       "version_minor": 0
      },
      "text/plain": [
       "  0%|          | 0/60 [00:00<?, ?it/s]"
      ]
     },
     "metadata": {},
     "output_type": "display_data"
    }
   ],
   "source": [
    "results_ts = mesa.batch_run(\n",
    "    MyModel,\n",
    "    parameters={\"n_agents\": [2, 3, 6]},\n",
    "    iterations=20,\n",
    "    max_steps=200,\n",
    "    number_processes=1,\n",
    "    data_collection_period=1,  # Need to collect only at the last step\n",
    "    display_progress=True,\n",
    ")\n",
    "\n",
    "results_ts = pd.DataFrame(results_ts)"
   ]
  },
  {
   "cell_type": "code",
   "execution_count": 236,
   "id": "452822fb-a2d7-459c-91db-93c928a99e98",
   "metadata": {},
   "outputs": [
    {
     "data": {
      "text/plain": [
       "(44060, 9)"
      ]
     },
     "execution_count": 236,
     "metadata": {},
     "output_type": "execute_result"
    }
   ],
   "source": [
    "results_ts.shape"
   ]
  },
  {
   "cell_type": "code",
   "execution_count": 237,
   "id": "5fd57ad6-536e-4878-bd12-2ed34e920d0c",
   "metadata": {},
   "outputs": [
    {
     "data": {
      "image/png": "[encoded data removed]",
      "text/plain": [
       "<Figure size 800x400 with 1 Axes>"
      ]
     },
     "metadata": {},
     "output_type": "display_data"
    }
   ],
   "source": [
    "g = sns.lineplot(\n",
    "    data=results_ts,\n",
    "    x=\"Step\",\n",
    "    y=\"happiness\",\n",
    "    hue=\"n_agents\",\n",
    "    errorbar=(\"ci\", 95),\n",
    "    palette=\"tab10\",\n",
    ")\n",
    "g.figure.set_size_inches(8, 4)\n",
    "\n",
    "g.set(ylabel=\"Happiness score\");"
   ]
  },
  {
   "cell_type": "code",
   "execution_count": null,
   "id": "00c8b0f1-a8b0-46a0-bc72-d2a7feba9eae",
   "metadata": {},
   "outputs": [],
   "source": []
  },
  {
   "cell_type": "code",
   "execution_count": null,
   "id": "340ce4d4-f638-4dca-9277-0e15fa938b10",
   "metadata": {},
   "outputs": [],
   "source": []
  }
 ],
 "metadata": {
  "kernelspec": {
   "display_name": "Modeling Ant Foraging Seminar",
   "language": "python",
   "name": "foraging_ants_seminar"
  },
  "language_info": {
   "codemirror_mode": {
    "name": "ipython",
    "version": 3
   },
   "file_extension": ".py",
   "mimetype": "text/x-python",
   "name": "python",
   "nbconvert_exporter": "python",
   "pygments_lexer": "ipython3",
   "version": "3.12.3"
  }
 },
 "nbformat": 4,
 "nbformat_minor": 5
}
